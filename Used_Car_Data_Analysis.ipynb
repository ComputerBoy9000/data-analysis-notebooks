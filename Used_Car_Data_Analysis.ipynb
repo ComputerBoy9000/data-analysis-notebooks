{
 "cells": [
  {
   "cell_type": "markdown",
   "metadata": {
    "collapsed": true
   },
   "source": [
    "We have been provided with an extensive set of used car listings from eBay in order to analyze them for different features. First, we'll need to clean some of the data in order to standardize it and prepare it for our various analyses. "
   ]
  },
  {
   "cell_type": "code",
   "execution_count": 23,
   "metadata": {},
   "outputs": [],
   "source": [
    "import numpy as np\n",
    "import pandas as pd \n",
    "\n",
    "autos = pd.read_csv(\"autos.csv\", encoding = \"Latin-1\")"
   ]
  },
  {
   "cell_type": "code",
   "execution_count": 24,
   "metadata": {},
   "outputs": [
    {
     "name": "stdout",
     "output_type": "stream",
     "text": [
      "<class 'pandas.core.frame.DataFrame'>\n",
      "RangeIndex: 50000 entries, 0 to 49999\n",
      "Data columns (total 20 columns):\n",
      "dateCrawled            50000 non-null object\n",
      "name                   50000 non-null object\n",
      "seller                 50000 non-null object\n",
      "offerType              50000 non-null object\n",
      "price                  50000 non-null object\n",
      "abtest                 50000 non-null object\n",
      "vehicleType            44905 non-null object\n",
      "yearOfRegistration     50000 non-null int64\n",
      "gearbox                47320 non-null object\n",
      "powerPS                50000 non-null int64\n",
      "model                  47242 non-null object\n",
      "odometer               50000 non-null object\n",
      "monthOfRegistration    50000 non-null int64\n",
      "fuelType               45518 non-null object\n",
      "brand                  50000 non-null object\n",
      "notRepairedDamage      40171 non-null object\n",
      "dateCreated            50000 non-null object\n",
      "nrOfPictures           50000 non-null int64\n",
      "postalCode             50000 non-null int64\n",
      "lastSeen               50000 non-null object\n",
      "dtypes: int64(5), object(15)\n",
      "memory usage: 7.6+ MB\n",
      "None\n",
      "           dateCrawled                                               name  \\\n",
      "0  2016-03-26 17:47:46                   Peugeot_807_160_NAVTECH_ON_BOARD   \n",
      "1  2016-04-04 13:38:56         BMW_740i_4_4_Liter_HAMANN_UMBAU_Mega_Optik   \n",
      "2  2016-03-26 18:57:24                         Volkswagen_Golf_1.6_United   \n",
      "3  2016-03-12 16:58:10  Smart_smart_fortwo_coupe_softouch/F1/Klima/Pan...   \n",
      "4  2016-04-01 14:38:50  Ford_Focus_1_6_Benzin_TÜV_neu_ist_sehr_gepfleg...   \n",
      "\n",
      "   seller offerType   price   abtest vehicleType  yearOfRegistration  \\\n",
      "0  privat   Angebot  $5,000  control         bus                2004   \n",
      "1  privat   Angebot  $8,500  control   limousine                1997   \n",
      "2  privat   Angebot  $8,990     test   limousine                2009   \n",
      "3  privat   Angebot  $4,350  control  kleinwagen                2007   \n",
      "4  privat   Angebot  $1,350     test       kombi                2003   \n",
      "\n",
      "     gearbox  powerPS   model   odometer  monthOfRegistration fuelType  \\\n",
      "0    manuell      158  andere  150,000km                    3      lpg   \n",
      "1  automatik      286     7er  150,000km                    6   benzin   \n",
      "2    manuell      102    golf   70,000km                    7   benzin   \n",
      "3  automatik       71  fortwo   70,000km                    6   benzin   \n",
      "4    manuell        0   focus  150,000km                    7   benzin   \n",
      "\n",
      "        brand notRepairedDamage          dateCreated  nrOfPictures  \\\n",
      "0     peugeot              nein  2016-03-26 00:00:00             0   \n",
      "1         bmw              nein  2016-04-04 00:00:00             0   \n",
      "2  volkswagen              nein  2016-03-26 00:00:00             0   \n",
      "3       smart              nein  2016-03-12 00:00:00             0   \n",
      "4        ford              nein  2016-04-01 00:00:00             0   \n",
      "\n",
      "   postalCode             lastSeen  \n",
      "0       79588  2016-04-06 06:45:54  \n",
      "1       71034  2016-04-06 14:45:08  \n",
      "2       35394  2016-04-06 20:15:37  \n",
      "3       33729  2016-03-15 03:16:28  \n",
      "4       39218  2016-04-01 14:38:50  \n"
     ]
    }
   ],
   "source": [
    "autos\n",
    "\n",
    "print(autos.info())\n",
    "\n",
    "print(autos.head())"
   ]
  },
  {
   "cell_type": "code",
   "execution_count": 25,
   "metadata": {},
   "outputs": [
    {
     "name": "stdout",
     "output_type": "stream",
     "text": [
      "Index(['dateCrawled', 'name', 'seller', 'offerType', 'price', 'abtest',\n",
      "       'vehicleType', 'yearOfRegistration', 'gearbox', 'powerPS', 'model',\n",
      "       'odometer', 'monthOfRegistration', 'fuelType', 'brand',\n",
      "       'notRepairedDamage', 'dateCreated', 'nrOfPictures', 'postalCode',\n",
      "       'lastSeen'],\n",
      "      dtype='object')\n"
     ]
    }
   ],
   "source": [
    "print(autos.columns)"
   ]
  },
  {
   "cell_type": "code",
   "execution_count": 26,
   "metadata": {
    "scrolled": true
   },
   "outputs": [
    {
     "name": "stdout",
     "output_type": "stream",
     "text": [
      "           dateCrawled                                               name  \\\n",
      "0  2016-03-26 17:47:46                   Peugeot_807_160_NAVTECH_ON_BOARD   \n",
      "1  2016-04-04 13:38:56         BMW_740i_4_4_Liter_HAMANN_UMBAU_Mega_Optik   \n",
      "2  2016-03-26 18:57:24                         Volkswagen_Golf_1.6_United   \n",
      "3  2016-03-12 16:58:10  Smart_smart_fortwo_coupe_softouch/F1/Klima/Pan...   \n",
      "4  2016-04-01 14:38:50  Ford_Focus_1_6_Benzin_TÜV_neu_ist_sehr_gepfleg...   \n",
      "\n",
      "   seller offerType   price   abtest vehicleType  registration_year  \\\n",
      "0  privat   Angebot  $5,000  control         bus               2004   \n",
      "1  privat   Angebot  $8,500  control   limousine               1997   \n",
      "2  privat   Angebot  $8,990     test   limousine               2009   \n",
      "3  privat   Angebot  $4,350  control  kleinwagen               2007   \n",
      "4  privat   Angebot  $1,350     test       kombi               2003   \n",
      "\n",
      "     gearbox  powerPS   model   odometer  registration_month fuelType  \\\n",
      "0    manuell      158  andere  150,000km                   3      lpg   \n",
      "1  automatik      286     7er  150,000km                   6   benzin   \n",
      "2    manuell      102    golf   70,000km                   7   benzin   \n",
      "3  automatik       71  fortwo   70,000km                   6   benzin   \n",
      "4    manuell        0   focus  150,000km                   7   benzin   \n",
      "\n",
      "        brand unrepaired_damage           ad_created  num_photos  postalCode  \\\n",
      "0     peugeot              nein  2016-03-26 00:00:00           0       79588   \n",
      "1         bmw              nein  2016-04-04 00:00:00           0       71034   \n",
      "2  volkswagen              nein  2016-03-26 00:00:00           0       35394   \n",
      "3       smart              nein  2016-03-12 00:00:00           0       33729   \n",
      "4        ford              nein  2016-04-01 00:00:00           0       39218   \n",
      "\n",
      "              lastSeen  \n",
      "0  2016-04-06 06:45:54  \n",
      "1  2016-04-06 14:45:08  \n",
      "2  2016-04-06 20:15:37  \n",
      "3  2016-03-15 03:16:28  \n",
      "4  2016-04-01 14:38:50  \n"
     ]
    }
   ],
   "source": [
    "col_edit = ['dateCrawled', 'name', 'seller', 'offerType', 'price', 'abtest',\n",
    "       'vehicleType', 'registration_year', 'gearbox', 'powerPS', 'model',\n",
    "       'odometer', 'registration_month', 'fuelType', 'brand',\n",
    "       'unrepaired_damage', 'ad_created', 'num_photos', 'postalCode',\n",
    "       'lastSeen']\n",
    "\n",
    "autos.columns = col_edit\n",
    "\n",
    "print(autos.head())"
   ]
  },
  {
   "cell_type": "markdown",
   "metadata": {},
   "source": [
    "Using the DataFrame.columns attribute, we renamed some of the columns in order to condense and more clearly parse what data they contained. \"notRepairedDamage\" is stilted and difficult to understand, whereas \"unrepaired_damage\" is straightforward, and our eyes can very easily relate the underscore to a space."
   ]
  },
  {
   "cell_type": "code",
   "execution_count": 27,
   "metadata": {},
   "outputs": [
    {
     "name": "stdout",
     "output_type": "stream",
     "text": [
      "                dateCrawled         name  seller offerType  price abtest  \\\n",
      "count                 50000        50000   50000     50000  50000  50000   \n",
      "unique                48213        38754       2         2   2357      2   \n",
      "top     2016-03-30 17:37:35  Ford_Fiesta  privat   Angebot     $0   test   \n",
      "freq                      3           78   49999     49999   1421  25756   \n",
      "mean                    NaN          NaN     NaN       NaN    NaN    NaN   \n",
      "std                     NaN          NaN     NaN       NaN    NaN    NaN   \n",
      "min                     NaN          NaN     NaN       NaN    NaN    NaN   \n",
      "25%                     NaN          NaN     NaN       NaN    NaN    NaN   \n",
      "50%                     NaN          NaN     NaN       NaN    NaN    NaN   \n",
      "75%                     NaN          NaN     NaN       NaN    NaN    NaN   \n",
      "max                     NaN          NaN     NaN       NaN    NaN    NaN   \n",
      "\n",
      "       vehicleType  registration_year  gearbox       powerPS  model  \\\n",
      "count        44905       50000.000000    47320  50000.000000  47242   \n",
      "unique           8                NaN        2           NaN    245   \n",
      "top      limousine                NaN  manuell           NaN   golf   \n",
      "freq         12859                NaN    36993           NaN   4024   \n",
      "mean           NaN        2005.073280      NaN    116.355920    NaN   \n",
      "std            NaN         105.712813      NaN    209.216627    NaN   \n",
      "min            NaN        1000.000000      NaN      0.000000    NaN   \n",
      "25%            NaN        1999.000000      NaN     70.000000    NaN   \n",
      "50%            NaN        2003.000000      NaN    105.000000    NaN   \n",
      "75%            NaN        2008.000000      NaN    150.000000    NaN   \n",
      "max            NaN        9999.000000      NaN  17700.000000    NaN   \n",
      "\n",
      "         odometer  registration_month fuelType       brand unrepaired_damage  \\\n",
      "count       50000        50000.000000    45518       50000             40171   \n",
      "unique         13                 NaN        7          40                 2   \n",
      "top     150,000km                 NaN   benzin  volkswagen              nein   \n",
      "freq        32424                 NaN    30107       10687             35232   \n",
      "mean          NaN            5.723360      NaN         NaN               NaN   \n",
      "std           NaN            3.711984      NaN         NaN               NaN   \n",
      "min           NaN            0.000000      NaN         NaN               NaN   \n",
      "25%           NaN            3.000000      NaN         NaN               NaN   \n",
      "50%           NaN            6.000000      NaN         NaN               NaN   \n",
      "75%           NaN            9.000000      NaN         NaN               NaN   \n",
      "max           NaN           12.000000      NaN         NaN               NaN   \n",
      "\n",
      "                 ad_created  num_photos    postalCode             lastSeen  \n",
      "count                 50000     50000.0  50000.000000                50000  \n",
      "unique                   76         NaN           NaN                39481  \n",
      "top     2016-04-03 00:00:00         NaN           NaN  2016-04-07 06:17:27  \n",
      "freq                   1946         NaN           NaN                    8  \n",
      "mean                    NaN         0.0  50813.627300                  NaN  \n",
      "std                     NaN         0.0  25779.747957                  NaN  \n",
      "min                     NaN         0.0   1067.000000                  NaN  \n",
      "25%                     NaN         0.0  30451.000000                  NaN  \n",
      "50%                     NaN         0.0  49577.000000                  NaN  \n",
      "75%                     NaN         0.0  71540.000000                  NaN  \n",
      "max                     NaN         0.0  99998.000000                  NaN  \n"
     ]
    }
   ],
   "source": [
    "print(autos.describe(include = \"all\"))"
   ]
  },
  {
   "cell_type": "markdown",
   "metadata": {},
   "source": [
    "There are multiple columns with very few values that are candidates for deletion. The \"seller\" column has only two different values, but the frequency for \"private\" is just one less than the total, so we are gaining essentially no information by including it in the model. The same goes for \"offerType.\" There are some columns that have only two different values, but they are important to include in the model. For example, most of the cars do not have any damage, but some of them do, which probably has a significant impact on the price of the vehicle. Similarly, it is important to know if the car has a manual or automatic transmission, which is represented by the \"gearbox\" column.\n",
    "\n",
    "The registration month column appears to have sets of conflicting information. Since it produced values for the summary statistics, we can infer that there are some numerical values. This is supported especially by the maximum of \"12,\" which represents the month of December. Additionally, \"powerPS\" and \"num_photos\" appear to be stored as float values with some missing information, and need to be investigated further.\n",
    "\n",
    "It appears as though \"price\" and \"odometer\" are numeric values that are stored as text, as there were no summary statistics calculated for them, whereas those are among the most important numerical traits a car can have when evaluating its sale price."
   ]
  },
  {
   "cell_type": "code",
   "execution_count": 28,
   "metadata": {},
   "outputs": [
    {
     "data": {
      "text/plain": [
       "0    50000\n",
       "Name: num_photos, dtype: int64"
      ]
     },
     "execution_count": 28,
     "metadata": {},
     "output_type": "execute_result"
    }
   ],
   "source": [
    "autos[\"num_photos\"].value_counts()"
   ]
  },
  {
   "cell_type": "markdown",
   "metadata": {},
   "source": [
    "Since this column is just \"0\" appearing 5,000 times, we can certainly delete it."
   ]
  },
  {
   "cell_type": "code",
   "execution_count": 29,
   "metadata": {},
   "outputs": [],
   "source": [
    "autos = autos.drop(columns = [\"seller\", \"offerType\", \"num_photos\"])"
   ]
  },
  {
   "cell_type": "code",
   "execution_count": 30,
   "metadata": {},
   "outputs": [
    {
     "name": "stdout",
     "output_type": "stream",
     "text": [
      "['$5,000' '$8,500' '$8,990' ... '$385' '$22,200' '$16,995']\n"
     ]
    }
   ],
   "source": [
    "print(autos[\"price\"].unique())"
   ]
  },
  {
   "cell_type": "markdown",
   "metadata": {},
   "source": [
    "In the above cell, we observe that the \"price\" column contains non-numeric characters ($ and ,) that must be removed"
   ]
  },
  {
   "cell_type": "code",
   "execution_count": 31,
   "metadata": {
    "collapsed": true
   },
   "outputs": [],
   "source": [
    "autos[\"price\"] = autos[\"price\"].str.replace(\"$\",\"\").str.replace(\",\",\"\")\n",
    "autos[\"price\"]= autos[\"price\"].astype(float)"
   ]
  },
  {
   "cell_type": "code",
   "execution_count": 32,
   "metadata": {},
   "outputs": [
    {
     "name": "stdout",
     "output_type": "stream",
     "text": [
      "['150,000km' '70,000km' '50,000km' '80,000km' '10,000km' '30,000km'\n",
      " '125,000km' '90,000km' '20,000km' '60,000km' '5,000km' '100,000km'\n",
      " '40,000km']\n"
     ]
    }
   ],
   "source": [
    "print(autos[\"odometer\"].unique())"
   ]
  },
  {
   "cell_type": "code",
   "execution_count": 33,
   "metadata": {},
   "outputs": [
    {
     "data": {
      "text/plain": [
       "0    150000\n",
       "1    150000\n",
       "2     70000\n",
       "3     70000\n",
       "4    150000\n",
       "Name: odometer_km, dtype: int64"
      ]
     },
     "execution_count": 33,
     "metadata": {},
     "output_type": "execute_result"
    }
   ],
   "source": [
    "autos[\"odometer\"]= autos[\"odometer\"].str.replace(\",\",\"\").str.replace(\"km\",\"\").astype(int)\n",
    "\n",
    "autos.rename({\"odometer\":\"odometer_km\"}, axis = 1, inplace = True)\n",
    "\n",
    "autos[\"odometer_km\"].head()\n"
   ]
  },
  {
   "cell_type": "code",
   "execution_count": 38,
   "metadata": {},
   "outputs": [
    {
     "name": "stdout",
     "output_type": "stream",
     "text": [
      "(2357,)\n",
      "count    5.000000e+04\n",
      "mean     9.840044e+03\n",
      "std      4.811044e+05\n",
      "min      0.000000e+00\n",
      "25%      1.100000e+03\n",
      "50%      2.950000e+03\n",
      "75%      7.200000e+03\n",
      "max      1.000000e+08\n",
      "Name: price, dtype: float64\n"
     ]
    },
    {
     "data": {
      "text/plain": [
       "0.0       1421\n",
       "500.0      781\n",
       "1500.0     734\n",
       "2500.0     643\n",
       "1200.0     639\n",
       "1000.0     639\n",
       "600.0      531\n",
       "800.0      498\n",
       "3500.0     498\n",
       "2000.0     460\n",
       "Name: price, dtype: int64"
      ]
     },
     "execution_count": 38,
     "metadata": {},
     "output_type": "execute_result"
    }
   ],
   "source": [
    "# analyzing the price data\n",
    "\n",
    "print(autos[\"price\"].unique().shape)\n",
    "print(autos[\"price\"].describe())\n",
    "\n",
    "autos[\"price\"].value_counts().head(10)"
   ]
  },
  {
   "cell_type": "markdown",
   "metadata": {
    "collapsed": true
   },
   "source": [
    "The most common price in the listings is 0 USD, which makes very little sense. There are 1421 listings with a price of 0 USD out of the 50,000 listings, which will significantly skew the mean to the left. The mean that is reported for the 50,000 listings is 9,840 USD. On the surface, this doesn't seem out of the ordinary, but because approximately 2 percent of the data are zeroes, the mean with those excluded should be significantly higher. Indeed, the maximum we observe in the data set is 100,000,000 USD!"
   ]
  },
  {
   "cell_type": "code",
   "execution_count": 39,
   "metadata": {},
   "outputs": [
    {
     "data": {
      "text/plain": [
       "99999999.0    1\n",
       "27322222.0    1\n",
       "12345678.0    3\n",
       "11111111.0    2\n",
       "10000000.0    1\n",
       "3890000.0     1\n",
       "1300000.0     1\n",
       "1234566.0     1\n",
       "999999.0      2\n",
       "999990.0      1\n",
       "Name: price, dtype: int64"
      ]
     },
     "execution_count": 39,
     "metadata": {},
     "output_type": "execute_result"
    }
   ],
   "source": [
    "autos[\"price\"].value_counts().sort_index(ascending = False).head(10)"
   ]
  },
  {
   "cell_type": "markdown",
   "metadata": {
    "collapsed": true
   },
   "source": [
    "These are exorbitant prices for used cars. We need to go down even further to find reasonable observations to include in our analysis."
   ]
  },
  {
   "cell_type": "code",
   "execution_count": 40,
   "metadata": {},
   "outputs": [
    {
     "data": {
      "text/plain": [
       "99999999.0    1\n",
       "27322222.0    1\n",
       "12345678.0    3\n",
       "11111111.0    2\n",
       "10000000.0    1\n",
       "3890000.0     1\n",
       "1300000.0     1\n",
       "1234566.0     1\n",
       "999999.0      2\n",
       "999990.0      1\n",
       "350000.0      1\n",
       "345000.0      1\n",
       "299000.0      1\n",
       "295000.0      1\n",
       "265000.0      1\n",
       "259000.0      1\n",
       "250000.0      1\n",
       "220000.0      1\n",
       "198000.0      1\n",
       "197000.0      1\n",
       "194000.0      1\n",
       "190000.0      1\n",
       "180000.0      1\n",
       "175000.0      1\n",
       "169999.0      1\n",
       "Name: price, dtype: int64"
      ]
     },
     "execution_count": 40,
     "metadata": {},
     "output_type": "execute_result"
    }
   ],
   "source": [
    "autos[\"price\"].value_counts().sort_index(ascending = False).head(25)"
   ]
  },
  {
   "cell_type": "markdown",
   "metadata": {},
   "source": [
    "Now, 350,000 USD is a great deal to pay for a used car, but it may have distinguishing features that separate it from a run of the mill car that we would observe in our day-to-day lives. Indeed, we observe a fairly consistent ascending rate through the upper 1-200,000 USD marks, but after 350,000 USD the prices cross the ~1mil USD threshold and we can comfortably exclude them. Now we should turn to the opposite end of the range to analyze the inexpensive listings."
   ]
  },
  {
   "cell_type": "code",
   "execution_count": 41,
   "metadata": {},
   "outputs": [
    {
     "data": {
      "text/plain": [
       "0.0     1421\n",
       "1.0      156\n",
       "2.0        3\n",
       "3.0        1\n",
       "5.0        2\n",
       "8.0        1\n",
       "9.0        1\n",
       "10.0       7\n",
       "11.0       2\n",
       "12.0       3\n",
       "13.0       2\n",
       "14.0       1\n",
       "15.0       2\n",
       "17.0       3\n",
       "18.0       1\n",
       "20.0       4\n",
       "25.0       5\n",
       "29.0       1\n",
       "30.0       7\n",
       "35.0       1\n",
       "40.0       6\n",
       "45.0       4\n",
       "47.0       1\n",
       "49.0       4\n",
       "50.0      49\n",
       "Name: price, dtype: int64"
      ]
     },
     "execution_count": 41,
     "metadata": {},
     "output_type": "execute_result"
    }
   ],
   "source": [
    "autos[\"price\"].value_counts().sort_index().head(25)"
   ]
  },
  {
   "cell_type": "markdown",
   "metadata": {},
   "source": [
    "As addressed earlier, the listings at 0 USD seem superfluous and are doing much more harm to the data set than good. If the prices were coming from used car listings from lots, we would seek to eliminate many of the other listings we obesrve here, but since eBay is an auction site, we don't have the granularity to distinguish between listings that start at 1 USD erroneously or listings that simply start at 1 USD because the owner opted to do so. Therefore, we should prune the 0 USD listings, and everything above 350,000 USD."
   ]
  },
  {
   "cell_type": "code",
   "execution_count": 42,
   "metadata": {},
   "outputs": [
    {
     "data": {
      "text/plain": [
       "count     48565.000000\n",
       "mean       5888.935591\n",
       "std        9059.854754\n",
       "min           1.000000\n",
       "25%        1200.000000\n",
       "50%        3000.000000\n",
       "75%        7490.000000\n",
       "max      350000.000000\n",
       "Name: price, dtype: float64"
      ]
     },
     "execution_count": 42,
     "metadata": {},
     "output_type": "execute_result"
    }
   ],
   "source": [
    "autos = autos[autos[\"price\"].between(1,350001)]\n",
    "autos[\"price\"].describe()"
   ]
  },
  {
   "cell_type": "code",
   "execution_count": 53,
   "metadata": {},
   "outputs": [
    {
     "data": {
      "image/png": "[encoded data removed]",
      "text/plain": [
       "<matplotlib.figure.Figure at 0x7fa3299b4f28>"
      ]
     },
     "metadata": {},
     "output_type": "display_data"
    }
   ],
   "source": [
    "%matplotlib inline\n",
    "import matplotlib.pyplot as plt \n",
    "import matplotlib\n",
    "\n",
    "fig1,ax1 = plt.subplots()\n",
    "\n",
    "ax1.set_title(\"Price\")\n",
    "ax1.boxplot(autos[\"price\"])\n",
    "plt.show()"
   ]
  },
  {
   "cell_type": "markdown",
   "metadata": {},
   "source": [
    "The minimum and maximum values match the bounds we created for our data set. The median value of 3,000 USD and the mean value of ~5,900 USD indicate that there is right skew in the data set, which is certainly to be expected given the firm lower bound of 1 and the extremely expensive cars in the data set. However, the data is much more sensible, and even though we had multiple zeroes in the data set, we observe that cutting the extraneous values from both tails gives us a much better indication of where the data is centered."
   ]
  },
  {
   "cell_type": "code",
   "execution_count": 59,
   "metadata": {},
   "outputs": [
    {
     "name": "stdout",
     "output_type": "stream",
     "text": [
      "150000    31414\n",
      "125000     5057\n",
      "100000     2115\n",
      "90000      1734\n",
      "80000      1415\n",
      "70000      1217\n",
      "60000      1155\n",
      "50000      1012\n",
      "5000        836\n",
      "40000       815\n",
      "30000       780\n",
      "20000       762\n",
      "10000       253\n",
      "Name: odometer_km, dtype: int64\n",
      "count     48565.000000\n",
      "mean     125770.101925\n",
      "std       39788.636804\n",
      "min        5000.000000\n",
      "25%      125000.000000\n",
      "50%      150000.000000\n",
      "75%      150000.000000\n",
      "max      150000.000000\n",
      "Name: odometer_km, dtype: float64\n"
     ]
    },
    {
     "data": {
      "image/png": "[encoded data removed]",
      "text/plain": [
       "<matplotlib.figure.Figure at 0x7fa3298abf60>"
      ]
     },
     "metadata": {},
     "output_type": "display_data"
    }
   ],
   "source": [
    "#odometer data analysis\n",
    "print(autos[\"odometer_km\"].value_counts())\n",
    "print(autos[\"odometer_km\"].describe())\n",
    "\n",
    "fig2,ax2 = plt.subplots()\n",
    "\n",
    "ax2.set_title(\"Odometer Reading (km)\")\n",
    "ax2.boxplot(autos[\"odometer_km\"])\n",
    "plt.show()"
   ]
  },
  {
   "cell_type": "markdown",
   "metadata": {},
   "source": [
    "The odometer data is much more nicely behaved. We observe an enormous concentration of the data at the 150,000 km mark, with over half of the data meeting the maximum value. The lack of granularity and distinct values probably indicates that there are preset values to choose from, and that there are vastly more cars with many km on them than with little km on them in the data set. The boxplot indicates multiple outliers according to the IQR rule, but they are important to include in the data set as they do not obfuscate the concentration at the high end while providing important information about how many cars are offered with fewer miles on them."
   ]
  },
  {
   "cell_type": "markdown",
   "metadata": {},
   "source": [
    "# Date Analysis"
   ]
  },
  {
   "cell_type": "code",
   "execution_count": 71,
   "metadata": {},
   "outputs": [
    {
     "data": {
      "text/html": [
       "<div>\n",
       "<style scoped>\n",
       "    .dataframe tbody tr th:only-of-type {\n",
       "        vertical-align: middle;\n",
       "    }\n",
       "\n",
       "    .dataframe tbody tr th {\n",
       "        vertical-align: top;\n",
       "    }\n",
       "\n",
       "    .dataframe thead th {\n",
       "        text-align: right;\n",
       "    }\n",
       "</style>\n",
       "<table border=\"1\" class=\"dataframe\">\n",
       "  <thead>\n",
       "    <tr style=\"text-align: right;\">\n",
       "      <th></th>\n",
       "      <th>dateCrawled</th>\n",
       "      <th>ad_created</th>\n",
       "      <th>lastSeen</th>\n",
       "    </tr>\n",
       "  </thead>\n",
       "  <tbody>\n",
       "    <tr>\n",
       "      <th>0</th>\n",
       "      <td>2016-03-26 17:47:46</td>\n",
       "      <td>2016-03-26 00:00:00</td>\n",
       "      <td>2016-04-06 06:45:54</td>\n",
       "    </tr>\n",
       "    <tr>\n",
       "      <th>1</th>\n",
       "      <td>2016-04-04 13:38:56</td>\n",
       "      <td>2016-04-04 00:00:00</td>\n",
       "      <td>2016-04-06 14:45:08</td>\n",
       "    </tr>\n",
       "    <tr>\n",
       "      <th>2</th>\n",
       "      <td>2016-03-26 18:57:24</td>\n",
       "      <td>2016-03-26 00:00:00</td>\n",
       "      <td>2016-04-06 20:15:37</td>\n",
       "    </tr>\n",
       "    <tr>\n",
       "      <th>3</th>\n",
       "      <td>2016-03-12 16:58:10</td>\n",
       "      <td>2016-03-12 00:00:00</td>\n",
       "      <td>2016-03-15 03:16:28</td>\n",
       "    </tr>\n",
       "    <tr>\n",
       "      <th>4</th>\n",
       "      <td>2016-04-01 14:38:50</td>\n",
       "      <td>2016-04-01 00:00:00</td>\n",
       "      <td>2016-04-01 14:38:50</td>\n",
       "    </tr>\n",
       "    <tr>\n",
       "      <th>5</th>\n",
       "      <td>2016-03-21 13:47:45</td>\n",
       "      <td>2016-03-21 00:00:00</td>\n",
       "      <td>2016-04-06 09:45:21</td>\n",
       "    </tr>\n",
       "    <tr>\n",
       "      <th>6</th>\n",
       "      <td>2016-03-20 17:55:21</td>\n",
       "      <td>2016-03-20 00:00:00</td>\n",
       "      <td>2016-03-23 02:48:59</td>\n",
       "    </tr>\n",
       "    <tr>\n",
       "      <th>7</th>\n",
       "      <td>2016-03-16 18:55:19</td>\n",
       "      <td>2016-03-16 00:00:00</td>\n",
       "      <td>2016-04-07 03:17:32</td>\n",
       "    </tr>\n",
       "    <tr>\n",
       "      <th>8</th>\n",
       "      <td>2016-03-22 16:51:34</td>\n",
       "      <td>2016-03-22 00:00:00</td>\n",
       "      <td>2016-03-26 18:18:10</td>\n",
       "    </tr>\n",
       "    <tr>\n",
       "      <th>9</th>\n",
       "      <td>2016-03-16 13:47:02</td>\n",
       "      <td>2016-03-16 00:00:00</td>\n",
       "      <td>2016-04-06 10:46:35</td>\n",
       "    </tr>\n",
       "  </tbody>\n",
       "</table>\n",
       "</div>"
      ],
      "text/plain": [
       "           dateCrawled           ad_created             lastSeen\n",
       "0  2016-03-26 17:47:46  2016-03-26 00:00:00  2016-04-06 06:45:54\n",
       "1  2016-04-04 13:38:56  2016-04-04 00:00:00  2016-04-06 14:45:08\n",
       "2  2016-03-26 18:57:24  2016-03-26 00:00:00  2016-04-06 20:15:37\n",
       "3  2016-03-12 16:58:10  2016-03-12 00:00:00  2016-03-15 03:16:28\n",
       "4  2016-04-01 14:38:50  2016-04-01 00:00:00  2016-04-01 14:38:50\n",
       "5  2016-03-21 13:47:45  2016-03-21 00:00:00  2016-04-06 09:45:21\n",
       "6  2016-03-20 17:55:21  2016-03-20 00:00:00  2016-03-23 02:48:59\n",
       "7  2016-03-16 18:55:19  2016-03-16 00:00:00  2016-04-07 03:17:32\n",
       "8  2016-03-22 16:51:34  2016-03-22 00:00:00  2016-03-26 18:18:10\n",
       "9  2016-03-16 13:47:02  2016-03-16 00:00:00  2016-04-06 10:46:35"
      ]
     },
     "execution_count": 71,
     "metadata": {},
     "output_type": "execute_result"
    }
   ],
   "source": [
    "autos[['dateCrawled','ad_created','lastSeen']][0:10]"
   ]
  },
  {
   "cell_type": "markdown",
   "metadata": {},
   "source": [
    "### I) Date Crawled"
   ]
  },
  {
   "cell_type": "code",
   "execution_count": 67,
   "metadata": {},
   "outputs": [
    {
     "name": "stdout",
     "output_type": "stream",
     "text": [
      "2016-03-05    0.025327\n",
      "2016-03-06    0.014043\n",
      "2016-03-07    0.036014\n",
      "2016-03-08    0.033296\n",
      "2016-03-09    0.033090\n",
      "2016-03-10    0.032184\n",
      "2016-03-11    0.032575\n",
      "2016-03-12    0.036920\n",
      "2016-03-13    0.015670\n",
      "2016-03-14    0.036549\n",
      "2016-03-15    0.034284\n",
      "2016-03-16    0.029610\n",
      "2016-03-17    0.031628\n",
      "2016-03-18    0.012911\n",
      "2016-03-19    0.034778\n",
      "2016-03-20    0.037887\n",
      "2016-03-21    0.037373\n",
      "2016-03-22    0.032987\n",
      "2016-03-23    0.032225\n",
      "2016-03-24    0.029342\n",
      "2016-03-25    0.031607\n",
      "2016-03-26    0.032204\n",
      "2016-03-27    0.031092\n",
      "2016-03-28    0.034860\n",
      "2016-03-29    0.034099\n",
      "2016-03-30    0.033687\n",
      "2016-03-31    0.031834\n",
      "2016-04-01    0.033687\n",
      "2016-04-02    0.035478\n",
      "2016-04-03    0.038608\n",
      "2016-04-04    0.036487\n",
      "2016-04-05    0.013096\n",
      "2016-04-06    0.003171\n",
      "2016-04-07    0.001400\n",
      "Name: dateCrawled, dtype: float64\n",
      "2016-04-07    0.001400\n",
      "2016-04-06    0.003171\n",
      "2016-03-18    0.012911\n",
      "2016-04-05    0.013096\n",
      "2016-03-06    0.014043\n",
      "2016-03-13    0.015670\n",
      "2016-03-05    0.025327\n",
      "2016-03-24    0.029342\n",
      "2016-03-16    0.029610\n",
      "2016-03-27    0.031092\n",
      "2016-03-25    0.031607\n",
      "2016-03-17    0.031628\n",
      "2016-03-31    0.031834\n",
      "2016-03-10    0.032184\n",
      "2016-03-26    0.032204\n",
      "2016-03-23    0.032225\n",
      "2016-03-11    0.032575\n",
      "2016-03-22    0.032987\n",
      "2016-03-09    0.033090\n",
      "2016-03-08    0.033296\n",
      "2016-03-30    0.033687\n",
      "2016-04-01    0.033687\n",
      "2016-03-29    0.034099\n",
      "2016-03-15    0.034284\n",
      "2016-03-19    0.034778\n",
      "2016-03-28    0.034860\n",
      "2016-04-02    0.035478\n",
      "2016-03-07    0.036014\n",
      "2016-04-04    0.036487\n",
      "2016-03-14    0.036549\n",
      "2016-03-12    0.036920\n",
      "2016-03-21    0.037373\n",
      "2016-03-20    0.037887\n",
      "2016-04-03    0.038608\n",
      "Name: dateCrawled, dtype: float64\n"
     ]
    }
   ],
   "source": [
    "print(autos[\"dateCrawled\"].str[:10]\n",
    "                        .value_counts(normalize = True, dropna = False)\n",
    "                        .sort_index())\n",
    "\n",
    "print(autos[\"dateCrawled\"].str[:10]\n",
    "                        .value_counts(normalize = True, dropna = False)\n",
    "                        .sort_values())"
   ]
  },
  {
   "cell_type": "markdown",
   "metadata": {},
   "source": [
    "The crawler recorded data for a little over a month from 03/05 to 04/07, and there are no apparent trends in daily usage."
   ]
  },
  {
   "cell_type": "markdown",
   "metadata": {},
   "source": [
    "### ii) Ad Created"
   ]
  },
  {
   "cell_type": "code",
   "execution_count": 68,
   "metadata": {},
   "outputs": [
    {
     "name": "stdout",
     "output_type": "stream",
     "text": [
      "2015-06-11    0.000021\n",
      "2015-08-10    0.000021\n",
      "2015-09-09    0.000021\n",
      "2015-11-10    0.000021\n",
      "2015-12-05    0.000021\n",
      "2015-12-30    0.000021\n",
      "2016-01-03    0.000021\n",
      "2016-01-07    0.000021\n",
      "2016-01-10    0.000041\n",
      "2016-01-13    0.000021\n",
      "2016-01-14    0.000021\n",
      "2016-01-16    0.000021\n",
      "2016-01-22    0.000021\n",
      "2016-01-27    0.000062\n",
      "2016-01-29    0.000021\n",
      "2016-02-01    0.000021\n",
      "2016-02-02    0.000041\n",
      "2016-02-05    0.000041\n",
      "2016-02-07    0.000021\n",
      "2016-02-08    0.000021\n",
      "2016-02-09    0.000021\n",
      "2016-02-11    0.000021\n",
      "2016-02-12    0.000041\n",
      "2016-02-14    0.000041\n",
      "2016-02-16    0.000021\n",
      "2016-02-17    0.000021\n",
      "2016-02-18    0.000041\n",
      "2016-02-19    0.000062\n",
      "2016-02-20    0.000041\n",
      "2016-02-21    0.000062\n",
      "                ...   \n",
      "2016-03-09    0.033151\n",
      "2016-03-10    0.031895\n",
      "2016-03-11    0.032904\n",
      "2016-03-12    0.036755\n",
      "2016-03-13    0.017008\n",
      "2016-03-14    0.035190\n",
      "2016-03-15    0.034016\n",
      "2016-03-16    0.030125\n",
      "2016-03-17    0.031278\n",
      "2016-03-18    0.013590\n",
      "2016-03-19    0.033687\n",
      "2016-03-20    0.037949\n",
      "2016-03-21    0.037579\n",
      "2016-03-22    0.032801\n",
      "2016-03-23    0.032060\n",
      "2016-03-24    0.029280\n",
      "2016-03-25    0.031751\n",
      "2016-03-26    0.032266\n",
      "2016-03-27    0.030989\n",
      "2016-03-28    0.034984\n",
      "2016-03-29    0.034037\n",
      "2016-03-30    0.033501\n",
      "2016-03-31    0.031875\n",
      "2016-04-01    0.033687\n",
      "2016-04-02    0.035149\n",
      "2016-04-03    0.038855\n",
      "2016-04-04    0.036858\n",
      "2016-04-05    0.011819\n",
      "2016-04-06    0.003253\n",
      "2016-04-07    0.001256\n",
      "Name: ad_created, Length: 76, dtype: float64\n",
      "2016-02-07    0.000021\n",
      "2016-01-22    0.000021\n",
      "2016-02-17    0.000021\n",
      "2016-01-14    0.000021\n",
      "2016-02-16    0.000021\n",
      "2016-02-11    0.000021\n",
      "2016-01-16    0.000021\n",
      "2015-12-30    0.000021\n",
      "2016-01-29    0.000021\n",
      "2016-01-07    0.000021\n",
      "2015-11-10    0.000021\n",
      "2016-02-22    0.000021\n",
      "2015-08-10    0.000021\n",
      "2016-01-03    0.000021\n",
      "2015-12-05    0.000021\n",
      "2016-02-01    0.000021\n",
      "2015-09-09    0.000021\n",
      "2016-01-13    0.000021\n",
      "2015-06-11    0.000021\n",
      "2016-02-08    0.000021\n",
      "2016-02-09    0.000021\n",
      "2016-02-18    0.000041\n",
      "2016-02-24    0.000041\n",
      "2016-01-10    0.000041\n",
      "2016-02-05    0.000041\n",
      "2016-02-14    0.000041\n",
      "2016-02-26    0.000041\n",
      "2016-02-12    0.000041\n",
      "2016-02-20    0.000041\n",
      "2016-02-02    0.000041\n",
      "                ...   \n",
      "2016-03-06    0.015320\n",
      "2016-03-13    0.017008\n",
      "2016-03-05    0.022897\n",
      "2016-03-24    0.029280\n",
      "2016-03-16    0.030125\n",
      "2016-03-27    0.030989\n",
      "2016-03-17    0.031278\n",
      "2016-03-25    0.031751\n",
      "2016-03-31    0.031875\n",
      "2016-03-10    0.031895\n",
      "2016-03-23    0.032060\n",
      "2016-03-26    0.032266\n",
      "2016-03-22    0.032801\n",
      "2016-03-11    0.032904\n",
      "2016-03-09    0.033151\n",
      "2016-03-08    0.033316\n",
      "2016-03-30    0.033501\n",
      "2016-04-01    0.033687\n",
      "2016-03-19    0.033687\n",
      "2016-03-15    0.034016\n",
      "2016-03-29    0.034037\n",
      "2016-03-07    0.034737\n",
      "2016-03-28    0.034984\n",
      "2016-04-02    0.035149\n",
      "2016-03-14    0.035190\n",
      "2016-03-12    0.036755\n",
      "2016-04-04    0.036858\n",
      "2016-03-21    0.037579\n",
      "2016-03-20    0.037949\n",
      "2016-04-03    0.038855\n",
      "Name: ad_created, Length: 76, dtype: float64\n"
     ]
    }
   ],
   "source": [
    "print(autos[\"ad_created\"].str[:10]\n",
    "                        .value_counts(normalize = True, dropna = False)\n",
    "                        .sort_index())\n",
    "\n",
    "print(autos[\"ad_created\"].str[:10]\n",
    "                        .value_counts(normalize = True, dropna = False)\n",
    "                        .sort_values())"
   ]
  },
  {
   "cell_type": "markdown",
   "metadata": {},
   "source": [
    "The advertisements seem to be only loosely linked to the listings, as the dates overlap with the crawler in some spots but several older dates are also included."
   ]
  },
  {
   "cell_type": "markdown",
   "metadata": {},
   "source": [
    "### iii) Last Seen"
   ]
  },
  {
   "cell_type": "code",
   "execution_count": 74,
   "metadata": {},
   "outputs": [
    {
     "name": "stdout",
     "output_type": "stream",
     "text": [
      "2016-03-05    0.001071\n",
      "2016-03-06    0.004324\n",
      "2016-03-07    0.005395\n",
      "2016-03-08    0.007413\n",
      "2016-03-09    0.009595\n",
      "2016-03-10    0.010666\n",
      "2016-03-11    0.012375\n",
      "2016-03-12    0.023783\n",
      "2016-03-13    0.008895\n",
      "2016-03-14    0.012602\n",
      "2016-03-15    0.015876\n",
      "2016-03-16    0.016452\n",
      "2016-03-17    0.028086\n",
      "2016-03-18    0.007351\n",
      "2016-03-19    0.015834\n",
      "2016-03-20    0.020653\n",
      "2016-03-21    0.020632\n",
      "2016-03-22    0.021373\n",
      "2016-03-23    0.018532\n",
      "2016-03-24    0.019767\n",
      "2016-03-25    0.019211\n",
      "2016-03-26    0.016802\n",
      "2016-03-27    0.015649\n",
      "2016-03-28    0.020859\n",
      "2016-03-29    0.022341\n",
      "2016-03-30    0.024771\n",
      "2016-03-31    0.023783\n",
      "2016-04-01    0.022794\n",
      "2016-04-02    0.024915\n",
      "2016-04-03    0.025203\n",
      "2016-04-04    0.024483\n",
      "2016-04-05    0.124761\n",
      "2016-04-06    0.221806\n",
      "2016-04-07    0.131947\n",
      "Name: lastSeen, dtype: float64\n",
      "2016-03-05    0.001071\n",
      "2016-03-06    0.004324\n",
      "2016-03-07    0.005395\n",
      "2016-03-18    0.007351\n",
      "2016-03-08    0.007413\n",
      "2016-03-13    0.008895\n",
      "2016-03-09    0.009595\n",
      "2016-03-10    0.010666\n",
      "2016-03-11    0.012375\n",
      "2016-03-14    0.012602\n",
      "2016-03-27    0.015649\n",
      "2016-03-19    0.015834\n",
      "2016-03-15    0.015876\n",
      "2016-03-16    0.016452\n",
      "2016-03-26    0.016802\n",
      "2016-03-23    0.018532\n",
      "2016-03-25    0.019211\n",
      "2016-03-24    0.019767\n",
      "2016-03-21    0.020632\n",
      "2016-03-20    0.020653\n",
      "2016-03-28    0.020859\n",
      "2016-03-22    0.021373\n",
      "2016-03-29    0.022341\n",
      "2016-04-01    0.022794\n",
      "2016-03-12    0.023783\n",
      "2016-03-31    0.023783\n",
      "2016-04-04    0.024483\n",
      "2016-03-30    0.024771\n",
      "2016-04-02    0.024915\n",
      "2016-04-03    0.025203\n",
      "2016-03-17    0.028086\n",
      "2016-04-05    0.124761\n",
      "2016-04-07    0.131947\n",
      "2016-04-06    0.221806\n",
      "Name: lastSeen, dtype: float64\n"
     ]
    }
   ],
   "source": [
    "print(autos[\"lastSeen\"].str[:10]\n",
    "                        .value_counts(normalize = True, dropna = False)\n",
    "                        .sort_index())\n",
    "\n",
    "print(autos[\"lastSeen\"].str[:10]\n",
    "                        .value_counts(normalize = True, dropna = False)\n",
    "                        .sort_values())"
   ]
  },
  {
   "cell_type": "markdown",
   "metadata": {},
   "source": [
    "We can attribute the disproportionate right skew at the end to the crawler ceasing activity and not to any actual sales data."
   ]
  },
  {
   "cell_type": "markdown",
   "metadata": {},
   "source": [
    "### iv) Registration Year "
   ]
  },
  {
   "cell_type": "code",
   "execution_count": 75,
   "metadata": {},
   "outputs": [
    {
     "data": {
      "text/plain": [
       "count    48565.000000\n",
       "mean      2004.755421\n",
       "std         88.643887\n",
       "min       1000.000000\n",
       "25%       1999.000000\n",
       "50%       2004.000000\n",
       "75%       2008.000000\n",
       "max       9999.000000\n",
       "Name: registration_year, dtype: float64"
      ]
     },
     "execution_count": 75,
     "metadata": {},
     "output_type": "execute_result"
    }
   ],
   "source": [
    "autos[\"registration_year\"].describe()"
   ]
  },
  {
   "cell_type": "markdown",
   "metadata": {},
   "source": [
    "There are obviously some problems with the data, as cars from 1000 and 9999 CE certainly don't match up with our expectations."
   ]
  },
  {
   "cell_type": "code",
   "execution_count": 76,
   "metadata": {},
   "outputs": [
    {
     "data": {
      "text/plain": [
       "2000    3156\n",
       "2005    2936\n",
       "1999    2897\n",
       "2004    2703\n",
       "2003    2699\n",
       "2006    2670\n",
       "2001    2636\n",
       "2002    2486\n",
       "1998    2363\n",
       "2007    2277\n",
       "2008    2215\n",
       "2009    2085\n",
       "1997    1951\n",
       "2011    1623\n",
       "2010    1589\n",
       "2017    1392\n",
       "1996    1373\n",
       "2012    1310\n",
       "1995    1227\n",
       "2016    1220\n",
       "2013     803\n",
       "2014     663\n",
       "1994     629\n",
       "2018     470\n",
       "1993     425\n",
       "2015     392\n",
       "1992     370\n",
       "1990     347\n",
       "1991     339\n",
       "1989     174\n",
       "        ... \n",
       "1950       3\n",
       "9999       3\n",
       "1800       2\n",
       "1951       2\n",
       "1941       2\n",
       "1934       2\n",
       "1954       2\n",
       "1957       2\n",
       "1955       2\n",
       "2019       2\n",
       "1001       1\n",
       "1939       1\n",
       "4500       1\n",
       "1953       1\n",
       "1111       1\n",
       "4800       1\n",
       "5911       1\n",
       "1943       1\n",
       "1938       1\n",
       "1929       1\n",
       "2800       1\n",
       "6200       1\n",
       "4100       1\n",
       "8888       1\n",
       "1927       1\n",
       "9000       1\n",
       "1948       1\n",
       "1000       1\n",
       "1931       1\n",
       "1952       1\n",
       "Name: registration_year, Length: 95, dtype: int64"
      ]
     },
     "execution_count": 76,
     "metadata": {},
     "output_type": "execute_result"
    }
   ],
   "source": [
    "autos[\"registration_year\"].value_counts(ascending = False)"
   ]
  },
  {
   "cell_type": "markdown",
   "metadata": {},
   "source": [
    "Looks like there's some cleaning to do! Since the cars are listed in 2016, the maximum year we should allow is 2017 (given that model years are typically 1 ahead of the current year.) The minimum value isn't as straightforward. The Ford Model T was released in the early 20th century, and while I don't anticipate too many to be sold on eBay, we can err on the side of caution without perturbing the true center of the data."
   ]
  },
  {
   "cell_type": "code",
   "execution_count": 78,
   "metadata": {},
   "outputs": [
    {
     "data": {
      "text/plain": [
       "2000    0.065650\n",
       "2005    0.061074\n",
       "1999    0.060263\n",
       "2004    0.056227\n",
       "2003    0.056144\n",
       "2006    0.055541\n",
       "2001    0.054833\n",
       "2002    0.051713\n",
       "1998    0.049154\n",
       "2007    0.047365\n",
       "2008    0.046076\n",
       "2009    0.043372\n",
       "1997    0.040584\n",
       "2011    0.033761\n",
       "2010    0.033054\n",
       "2017    0.028956\n",
       "1996    0.028561\n",
       "2012    0.027250\n",
       "1995    0.025524\n",
       "2016    0.025378\n",
       "2013    0.016704\n",
       "2014    0.013792\n",
       "1994    0.013084\n",
       "1993    0.008841\n",
       "2015    0.008154\n",
       "Name: registration_year, dtype: float64"
      ]
     },
     "execution_count": 78,
     "metadata": {},
     "output_type": "execute_result"
    }
   ],
   "source": [
    "autos = autos[autos[\"registration_year\"].between(1907,2017)]\n",
    "autos[\"registration_year\"].value_counts(normalize=True).head(25)"
   ]
  },
  {
   "cell_type": "code",
   "execution_count": 79,
   "metadata": {},
   "outputs": [
    {
     "data": {
      "text/plain": [
       "count    48073.000000\n",
       "mean      2003.318724\n",
       "std          7.464077\n",
       "min       1910.000000\n",
       "25%       1999.000000\n",
       "50%       2003.000000\n",
       "75%       2008.000000\n",
       "max       2017.000000\n",
       "Name: registration_year, dtype: float64"
      ]
     },
     "execution_count": 79,
     "metadata": {},
     "output_type": "execute_result"
    }
   ],
   "source": [
    "autos[\"registration_year\"].describe()"
   ]
  },
  {
   "cell_type": "markdown",
   "metadata": {},
   "source": [
    "The vast majority of the cars were registed in the last 20-25 years, and the data set contains realistic values fairly tightly packed around the early 21st century. "
   ]
  },
  {
   "cell_type": "markdown",
   "metadata": {},
   "source": [
    "# Brand Analysis"
   ]
  },
  {
   "cell_type": "code",
   "execution_count": 89,
   "metadata": {},
   "outputs": [
    {
     "data": {
      "text/plain": [
       "volkswagen        0.212593\n",
       "bmw               0.108814\n",
       "opel              0.108377\n",
       "mercedes_benz     0.095896\n",
       "audi              0.086098\n",
       "ford              0.069831\n",
       "renault           0.047677\n",
       "peugeot           0.029601\n",
       "fiat              0.025836\n",
       "seat              0.018618\n",
       "skoda             0.016163\n",
       "nissan            0.015310\n",
       "mazda             0.015248\n",
       "smart             0.014312\n",
       "citroen           0.014104\n",
       "toyota            0.012668\n",
       "hyundai           0.009985\n",
       "sonstige_autos    0.009631\n",
       "volvo             0.009090\n",
       "mini              0.008695\n",
       "mitsubishi        0.008154\n",
       "honda             0.007905\n",
       "kia               0.007114\n",
       "alfa_romeo        0.006636\n",
       "porsche           0.005949\n",
       "suzuki            0.005866\n",
       "chevrolet         0.005637\n",
       "chrysler          0.003515\n",
       "dacia             0.002663\n",
       "daihatsu          0.002496\n",
       "jeep              0.002226\n",
       "subaru            0.002101\n",
       "land_rover        0.002059\n",
       "saab              0.001623\n",
       "daewoo            0.001560\n",
       "jaguar            0.001519\n",
       "trabant           0.001394\n",
       "rover             0.001352\n",
       "lancia            0.001123\n",
       "lada              0.000562\n",
       "Name: brand, dtype: float64"
      ]
     },
     "execution_count": 89,
     "metadata": {},
     "output_type": "execute_result"
    }
   ],
   "source": [
    "autos[\"brand\"].value_counts(normalize = True)"
   ]
  },
  {
   "cell_type": "markdown",
   "metadata": {},
   "source": [
    "There appears to be a significant drop-off in the data below the 5\\% threshold, so we'll stick to the brands that comprise of at least 5 percent of all the data collected. This includes some well-known car manufacturers around the world, predominantly German, but also some localized to non-US regions (Opel is not a common brand in the United States)."
   ]
  },
  {
   "cell_type": "code",
   "execution_count": 117,
   "metadata": {},
   "outputs": [],
   "source": [
    "brand_pct = autos[\"brand\"].value_counts(normalize = True)\n",
    "brand_over5pct = brand_pct[brand_pct > .05].index\n",
    "\n",
    "\n",
    "                           "
   ]
  },
  {
   "cell_type": "code",
   "execution_count": 125,
   "metadata": {},
   "outputs": [
    {
     "name": "stdout",
     "output_type": "stream",
     "text": [
      "{'mercedes_benz': 8528, 'volkswagen': 5351, 'opel': 2952, 'audi': 9239, 'ford': 3732, 'bmw': 8284}\n"
     ]
    }
   ],
   "source": [
    "brand_mean_price = {}\n",
    "\n",
    "for brand in brand_over5pct:\n",
    "    brand_data = autos[autos[\"brand\"] == brand]\n",
    "    brand_mean = brand_data[\"price\"].mean()\n",
    "    brand_mean_price[brand] = int(brand_mean)\n",
    "\n",
    "print(brand_mean_price)\n"
   ]
  },
  {
   "cell_type": "markdown",
   "metadata": {},
   "source": [
    "There are clear discrepancies in the average price among each group. The Mercedes-Benz, BMW, and Audi all have average prices well over 8,000 USD, whereas Opel and Ford are both below 4,000 USD The Volkswagen brand occupies a middle ground at ~5300 USD. We would need to analyze the data further to actually know if the cost is a signal of the quality."
   ]
  },
  {
   "cell_type": "markdown",
   "metadata": {},
   "source": [
    "# Mean Mileage & Price"
   ]
  },
  {
   "cell_type": "code",
   "execution_count": 133,
   "metadata": {},
   "outputs": [
    {
     "data": {
      "text/html": [
       "<div>\n",
       "<style scoped>\n",
       "    .dataframe tbody tr th:only-of-type {\n",
       "        vertical-align: middle;\n",
       "    }\n",
       "\n",
       "    .dataframe tbody tr th {\n",
       "        vertical-align: top;\n",
       "    }\n",
       "\n",
       "    .dataframe thead th {\n",
       "        text-align: right;\n",
       "    }\n",
       "</style>\n",
       "<table border=\"1\" class=\"dataframe\">\n",
       "  <thead>\n",
       "    <tr style=\"text-align: right;\">\n",
       "      <th></th>\n",
       "      <th>mean_price</th>\n",
       "      <th>mean_mileage</th>\n",
       "    </tr>\n",
       "  </thead>\n",
       "  <tbody>\n",
       "    <tr>\n",
       "      <th>audi</th>\n",
       "      <td>9239</td>\n",
       "      <td>129406</td>\n",
       "    </tr>\n",
       "    <tr>\n",
       "      <th>bmw</th>\n",
       "      <td>8284</td>\n",
       "      <td>132666</td>\n",
       "    </tr>\n",
       "    <tr>\n",
       "      <th>ford</th>\n",
       "      <td>3732</td>\n",
       "      <td>124255</td>\n",
       "    </tr>\n",
       "    <tr>\n",
       "      <th>mercedes_benz</th>\n",
       "      <td>8528</td>\n",
       "      <td>130962</td>\n",
       "    </tr>\n",
       "    <tr>\n",
       "      <th>opel</th>\n",
       "      <td>2952</td>\n",
       "      <td>129415</td>\n",
       "    </tr>\n",
       "    <tr>\n",
       "      <th>volkswagen</th>\n",
       "      <td>5351</td>\n",
       "      <td>128928</td>\n",
       "    </tr>\n",
       "  </tbody>\n",
       "</table>\n",
       "</div>"
      ],
      "text/plain": [
       "               mean_price  mean_mileage\n",
       "audi                 9239        129406\n",
       "bmw                  8284        132666\n",
       "ford                 3732        124255\n",
       "mercedes_benz        8528        130962\n",
       "opel                 2952        129415\n",
       "volkswagen           5351        128928"
      ]
     },
     "execution_count": 133,
     "metadata": {},
     "output_type": "execute_result"
    }
   ],
   "source": [
    "brand_mean_mileage = {}\n",
    "\n",
    "for brand in brand_over5pct:\n",
    "    brand_data = autos[autos[\"brand\"] == brand]\n",
    "    brand_mean = brand_data[\"odometer_km\"].mean()\n",
    "    brand_mean_mileage[brand] = int(brand_mean)\n",
    "    \n",
    "bmp_series = pd.Series(brand_mean_price)\n",
    "bmm_series = pd.Series(brand_mean_mileage)\n",
    "\n",
    "top5_data = pd.DataFrame(bmp_series, columns = [\"mean_price\"])\n",
    "\n",
    "top5_data[\"mean_mileage\"] = bmm_series\n",
    "\n",
    "top5_data"
   ]
  },
  {
   "cell_type": "code",
   "execution_count": 134,
   "metadata": {},
   "outputs": [
    {
     "data": {
      "image/png": "[encoded data removed]",
      "text/plain": [
       "<matplotlib.figure.Figure at 0x7fa32958b908>"
      ]
     },
     "metadata": {},
     "output_type": "display_data"
    }
   ],
   "source": [
    "plt.scatter(top5_data[\"mean_price\"],top5_data[\"mean_mileage\"])\n",
    "plt.show()"
   ]
  },
  {
   "cell_type": "markdown",
   "metadata": {},
   "source": [
    "The sample size is obviously very small, but we do see a general upward trend- the more expensive brands tend to have higher average odometer readings when put on eBay for auction. Two causes immediately jump out- one is that, the more expensive brands have higher quality parts, design, labor, etc., and therefore tend to last longer and be more reliable as they age. Another potential cause is consumption substitution due to income changes. As workers accrue wages, it is possible that they opt to \"trade up\" and trade in their lower-cost cars for higher-cost models. I would not expect this to be the primary driving force, but it is certainly a factor to consider, especially as we would not expect many consumers to be able to trade up from the price point of a Mercedes-Benz or BMW."
   ]
  }
 ],
 "metadata": {
  "kernelspec": {
   "display_name": "Python 3",
   "language": "python",
   "name": "python3"
  },
  "language_info": {
   "codemirror_mode": {
    "name": "ipython",
    "version": 3
   },
   "file_extension": ".py",
   "mimetype": "text/x-python",
   "name": "python",
   "nbconvert_exporter": "python",
   "pygments_lexer": "ipython3",
   "version": "3.7.1"
  }
 },
 "nbformat": 4,
 "nbformat_minor": 2
}
